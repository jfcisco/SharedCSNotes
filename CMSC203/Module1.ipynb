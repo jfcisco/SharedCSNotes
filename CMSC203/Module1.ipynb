{
 "cells": [
  {
   "cell_type": "code",
   "execution_count": null,
   "metadata": {
    "dotnet_interactive": {
     "language": "csharp"
    }
   },
   "outputs": [],
   "source": [
    "// SAQ 1-8: Floating Point Conversions\r\n",
    "\r\n",
    "// 0 11010000 [1] 0110 0000\r\n",
    "1 + 1;"
   ]
  }
 ],
 "metadata": {
  "kernelspec": {
   "display_name": "Python 3.8.5 64-bit",
   "metadata": {
    "interpreter": {
     "hash": "1baa965d5efe3ac65b79dfc60c0d706280b1da80fedb7760faf2759126c4f253"
    }
   },
   "name": "python3"
  },
  "language_info": {
   "name": "dotnet-interactive.csharp",
   "version": "3.8.5-final"
  },
  "orig_nbformat": 2
 },
 "nbformat": 4,
 "nbformat_minor": 2
}